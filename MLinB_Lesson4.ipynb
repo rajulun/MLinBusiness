{
 "cells": [
  {
   "cell_type": "markdown",
   "metadata": {},
   "source": [
    "## Машинное обучение в бизнесе\n",
    "\n",
    "### Урок 4. Кейс 1. Построение и оценка модели"
   ]
  },
  {
   "cell_type": "markdown",
   "metadata": {},
   "source": [
    "\n",
    "\n",
    "### 1.Прочитайте базу my_PJME_MW.csv и сделайте ее перерасчет (ресемплинг) в представление по неделям.\n"
   ]
  },
  {
   "cell_type": "code",
   "execution_count": null,
   "metadata": {},
   "outputs": [],
   "source": [
    "%matplotlib inline\n",
    "import matplotlib.pyplot as plt\n",
    "\n",
    "import numpy as np\n",
    "import pandas as pd \n",
    "import seaborn as sns\n",
    "\n",
    "\n",
    "from sklearn.metrics import mean_squared_error\n",
    "import os\n",
    "\n",
    "from sklearn.cluster import KMeans, DBSCAN\n",
    "from sklearn.preprocessing import StandardScaler\n",
    "from sklearn.decomposition import PCA\n",
    "from sklearn.manifold import TSNE \n",
    "\n",
    "from sklearn.feature_selection import SelectKBest, SelectPercentile\n",
    "from sklearn.feature_selection import SelectFromModel\n",
    "\n",
    "from sklearn.ensemble import GradientBoostingRegressor\n",
    "from sklearn.feature_selection import f_regression, mutual_info_regression\n",
    "\n"
   ]
  },
  {
   "cell_type": "code",
   "execution_count": null,
   "metadata": {},
   "outputs": [],
   "source": [
    "#Path_Energy = 'PJME_hourly.csv'\n",
    "Path_Energy = 'my_PJME_MW.csv'\n",
    "data = pd.read_csv(Path_Energy, index_col=[0], parse_dates=[0])\n"
   ]
  },
  {
   "cell_type": "code",
   "execution_count": null,
   "metadata": {},
   "outputs": [],
   "source": [
    "data_w = data.copy().resample('W').mean()\n",
    "data_w.head()"
   ]
  },
  {
   "cell_type": "code",
   "execution_count": null,
   "metadata": {},
   "outputs": [],
   "source": [
    "# data_w.drop(['dayofmonth', 'dayofyear', 'hour'], axis=1,inplace=True)\n",
    "# data_w.head()"
   ]
  },
  {
   "cell_type": "code",
   "execution_count": null,
   "metadata": {},
   "outputs": [],
   "source": [
    "# scl=StandardScaler()\n",
    "# tsne_ =TSNE(n_components=2)\n",
    "\n",
    "# X = data_w.iloc[:,:-1].values\n",
    "\n",
    "# Xscale = scl.fit_transform(X)\n",
    "# X_t = tsne_.fit_transform(Xscale)"
   ]
  },
  {
   "cell_type": "code",
   "execution_count": null,
   "metadata": {},
   "outputs": [],
   "source": [
    "# clast_0 = DBSCAN(eps=5, leaf_size=15 )\n",
    "# clast_1 = DBSCAN(eps=2, leaf_size=5)\n",
    "# X_clast =clast_0.fit_predict(X_t)\n",
    "# X_scale_clast =clast_1.fit_predict(Xscale)\n",
    "\n",
    "# sns.scatterplot(X_t[:,0],X_t[:,1], hue=X_clast)\n",
    "# plt.show()"
   ]
  },
  {
   "cell_type": "code",
   "execution_count": null,
   "metadata": {},
   "outputs": [],
   "source": []
  },
  {
   "cell_type": "markdown",
   "metadata": {},
   "source": [
    "### 2.Постройте модель предсказания 4-й точки от текущей (h = 4), используя результаты автокорреляционного анализа из предшествующих уроков.\n",
    "\n"
   ]
  },
  {
   "cell_type": "code",
   "execution_count": null,
   "metadata": {},
   "outputs": [],
   "source": [
    "data_w = data_w.drop(['year', 'hour', 'dayofyear', 'dayofmonth', 'dayofweek'], axis=1).copy()\n",
    "scl_x=StandardScaler()\n",
    "\n",
    "def createFeatures(data_w, p=7):\n",
    "    \n",
    "    \n",
    "    scl = StandardScaler()\n",
    "    tsne = TSNE(n_components=2)\n",
    "\n",
    "    X = data_w.iloc[:,:-1]\n",
    "    X = scl.fit_transform(X)\n",
    "    Xt = tsne.fit_transform(X)\n",
    "\n",
    "    clast_0 = DBSCAN(eps=5, leaf_size=15)\n",
    "    clast_1 = DBSCAN(eps=2, leaf_size=5)\n",
    "\n",
    "    data_w['cluster1'] = clast_0.fit_predict(Xt)\n",
    "    data_w['cluster2'] = clast_1.fit_predict(X)\n",
    "    \n",
    "    pca = PCA(n_components=2, svd_solver='full')\n",
    "    Xpca=pca.fit_transform(X)\n",
    "    \n",
    "    data_w['pca1']=Xpca[:,0]\n",
    "    data_w['pca2']=Xpca[:,1]\n",
    "    \n",
    "    data_w['diff1'] = data_w.iloc[:, 0].diff()\n",
    "    data_w['diff1'].fillna(0, inplace=True)\n",
    "\n",
    "    for i in range(1, p):\n",
    "        data_w[f't{i}'] = 0.0\n",
    "        data_w[f't{i}'].values[i:] = data_w['PJME_MW'].values[:-i]\n",
    "        data_w[f'd{i}'] = 0.0\n",
    "        data_w[f'd{i}'].values[i:] = data_w['diff1'].values[:-i]\n",
    "\n",
    "    for i in range(1,9):\n",
    "        data_w[f'exp_0{i}'] = exponential_smoothing(data_w['PJME_MW'], i/100)\n",
    "        \n",
    "    return data_w\n",
    "\n",
    "def getXy(data_w, h, p=7):\n",
    "    scl_target = StandardScaler() \n",
    "    target = data_w['PJME_MW'].values[h+p:].reshape((data_w.shape[0]-h-p,1))\n",
    "    y = scl_target.fit_transform(target)\n",
    "\n",
    " \n",
    "    X = data_w.iloc[p:-h,:].values\n",
    "    X = scl_x.fit_transform(X.astype('float64'))\n",
    "    return X, y, scl_target\n",
    "\n",
    "def getFeatures(X, y):\n",
    "    \n",
    "    sfk = SelectKBest(f_regression, k=5)\n",
    "    sfk.fit_transform(X, y.ravel())\n",
    "\n",
    "    sfp=SelectPercentile(f_regression, percentile=10)\n",
    "    sfp.fit_transform(X, y.ravel())\n",
    "\n",
    "    gr_model = GradientBoostingRegressor(max_depth=3, random_state=0, n_estimators=300).fit(X, y.ravel())\n",
    "    sfm = SelectFromModel(gr_model,  max_features = 5)\n",
    "    sfm.fit_transform(X, y.ravel())\n",
    "\n",
    "    list_param_k =np.where(sfk.get_support())[0]\n",
    "    list_param_p =np.where(sfp.get_support())[0]\n",
    "    list_param_m =np.where(sfm.get_support())[0]\n",
    "\n",
    "    features = list(set(list(list_param_k) + list(list_param_m) + list(list_param_p)))\n",
    "\n",
    "    print('Номера признаков k лучших признаков : ',list_param_k)\n",
    "    print('Номера признаков лучших признаков по процентной форме: ',list_param_p)\n",
    "    print('Номера признаков для выбора по модели : ',list_param_m)\n",
    "\n",
    "    print('Отобранные признаки: ',list(data_w.columns[features]))\n",
    "    \n",
    "    return features\n",
    "\n",
    "def modeling(X, y, train, test, features):\n",
    "    X_new = X[:,features]\n",
    "\n",
    "    X_train =X_new[:train.shape[0],:]\n",
    "    y_train =y[:train.shape[0],0]\n",
    "    X_test =X_new[train.shape[0]:,:]\n",
    "    y_test =y[train.shape[0]:,0]\n",
    "\n",
    "\n",
    "    model = GradientBoostingRegressor(max_depth=3, random_state=0, n_estimators=300)\n",
    "    model.fit( X_train, y_train )\n",
    "    y_pred = model.predict(X_test)\n",
    "\n",
    "    plt.figure( figsize=( 15, 7 ))\n",
    "\n",
    "\n",
    "    plt.xlabel('Время')\n",
    "    plt.ylabel('Потребление энергии, МВт')\n",
    "    plt.plot(test.index[h+p:],y_pred, label='predict GB data' )\n",
    "    plt.plot(test.index[h+p:],y_test, label='test data')\n",
    "\n",
    "    plt.legend()\n",
    "    plt.show()\n",
    "\n",
    "    er_g = mean_absolute_percentage_error(y_true = scl_target.inverse_transform(y_test),\n",
    "                                          y_pred = scl_target.inverse_transform(y_pred))\n",
    "\n",
    "    print('ошибка градиентного бустинга MAPE :  ', er_g,'%')\n",
    "    \n"
   ]
  },
  {
   "cell_type": "code",
   "execution_count": null,
   "metadata": {},
   "outputs": [],
   "source": [
    "def exponential_smoothing(series, alpha):\n",
    "    result = [series[0]]\n",
    "    for n in range(1, len(series)):\n",
    "        result.append(alpha * series[n] + (1 - alpha) * result[n-1])\n",
    "    return result\n",
    "\n",
    "def mean_absolute_percentage_error(y_true, y_pred): \n",
    "    y_true, y_pred = np.array(y_true), np.array(y_pred)\n",
    "    return np.mean(np.abs((y_true - y_pred) / y_true)) * 100"
   ]
  },
  {
   "cell_type": "code",
   "execution_count": null,
   "metadata": {},
   "outputs": [],
   "source": [
    "def split_data(data_w, split_date ):\n",
    "    return data_w.loc[data_w.index.get_level_values('Date') <= split_date].copy(), \\\n",
    "           data_w.loc[data_w.index.get_level_values('Date') >  split_date].copy()\n",
    "\n",
    "\n",
    "\n",
    "h = 4\n",
    "p = 7\n",
    "\n",
    "data_w = createFeatures(data_w, p)\n",
    "X, y, scl_target = getXy(data_w, h, p)\n",
    "features = getFeatures(X, y)\n",
    "\n",
    "train, test = split_data( data_w, '01-06-2016')\n",
    "\n",
    "modeling(X, y, train, test, features)"
   ]
  },
  {
   "cell_type": "code",
   "execution_count": null,
   "metadata": {},
   "outputs": [],
   "source": []
  },
  {
   "cell_type": "code",
   "execution_count": null,
   "metadata": {},
   "outputs": [],
   "source": []
  },
  {
   "cell_type": "markdown",
   "metadata": {},
   "source": [
    "### 3.Постройте модель предсказания 1-й точки от текущей (h = 1), используя результаты автокорреляционного анализа из предшествующих уроков.\n"
   ]
  },
  {
   "cell_type": "code",
   "execution_count": null,
   "metadata": {},
   "outputs": [],
   "source": [
    "h = 1\n",
    "p = 7\n",
    "\n",
    "data_w = createFeatures(data_w, p)\n",
    "X, y, _ = getXy(data_w, h, p)\n",
    "features = getFeatures(X, y)\n",
    "modeling(X, y, train, test, features)"
   ]
  },
  {
   "cell_type": "code",
   "execution_count": null,
   "metadata": {},
   "outputs": [],
   "source": []
  },
  {
   "cell_type": "code",
   "execution_count": null,
   "metadata": {},
   "outputs": [],
   "source": []
  },
  {
   "cell_type": "code",
   "execution_count": null,
   "metadata": {},
   "outputs": [],
   "source": []
  },
  {
   "cell_type": "markdown",
   "metadata": {},
   "source": [
    "### 4.Примените авторекурсию и сравните результат в 4-й точке путем прямого моделирования и путем рекурсивного моделирования на длине выборки из 4-х точек.\n"
   ]
  },
  {
   "cell_type": "code",
   "execution_count": null,
   "metadata": {},
   "outputs": [],
   "source": [
    "h = 1\n",
    "p = 7\n",
    "\n",
    "data_w = createFeatures(data_w, p)\n",
    "X, y, _ = getXy(data_w, h, p)\n",
    "features = getFeatures(X, y)\n",
    "\n",
    "X_new = X[:,features]\n",
    "\n",
    "X_train =X_new[:train.shape[0],:]\n",
    "y_train =y[:train.shape[0],0]\n",
    "X_test =X_new[train.shape[0]:,:]\n",
    "y_test =y[train.shape[0]:,0]\n",
    "\n",
    "\n",
    "model = GradientBoostingRegressor(max_depth=5, random_state=0, n_estimators=100)\n",
    "model.fit( X_train, y_train )\n",
    "y_pred = model.predict(X_test)"
   ]
  },
  {
   "cell_type": "code",
   "execution_count": null,
   "metadata": {},
   "outputs": [],
   "source": [
    "X_test_100 = X_test.copy()\n",
    "y_test_100 = y_pred.copy()\n",
    "N = 4\n",
    "sph = len(features)\n",
    "\n",
    "for i in range(N):\n",
    "    y_test_100[i] = model.predict(X_test_100[i,:].reshape((1,X_test_100.shape[1])))\n",
    "    y_i = scl_target.inverse_transform(y_test_100[i:i+1]) \n",
    "    # заполняем вектор для прогноза следующей точки\n",
    "    X_test_100[i+1,0] = (y_i-scl_x.mean_[0])/scl_x.scale_[0]\n",
    "    X_test_100[i+1,3] = X_test_100[i, 0]\n",
    "    X_test_100[i+1,4] = 0 if i<2 else X_test_100[i-2, 0]\n",
    "    X_test_100[i+1,5] = 0 if i<3 else X_test_100[i-3, 0]\n",
    "    X_test_100[i+1,6] = 0 if i<4 else X_test_100[i-4, 0]\n",
    "    X_test_100[i+1,6] = 0 if i<4 else X_test_100[i-6, 0]\n",
    "        \n",
    "plt.figure( figsize=( 15, 7 ))\n",
    "plt.xlabel('Время')\n",
    "plt.ylabel('Потребление энергии, МВт')\n",
    "plt.plot(test.index[1:N+1],y_pred[:N], 'r',label='predict GB data' )\n",
    "plt.plot(test.index[1:N+1],y_test[:N], 'g',label='test data', alpha=0.5)\n",
    "plt.plot(test.index[1:N+1],y_test_100[:N], '--r',label='slide predict data')\n",
    "\n",
    "plt.legend()\n",
    "plt.show()\n",
    "\n",
    "er_g = mean_absolute_percentage_error(y_true = scl_target.inverse_transform( y_test[:N]),\n",
    "                                      y_pred = scl_target.inverse_transform( y_test_100[:N]))\n",
    "print('ошибка градиентного бустинга MAPE :  ', er_g,'%')"
   ]
  },
  {
   "cell_type": "code",
   "execution_count": null,
   "metadata": {},
   "outputs": [],
   "source": []
  },
  {
   "cell_type": "code",
   "execution_count": null,
   "metadata": {},
   "outputs": [],
   "source": []
  },
  {
   "cell_type": "markdown",
   "metadata": {},
   "source": [
    "### 5.Оцените рост ошибки прогнозирования рекурсивной модели в интервалах от 1-й до 10-й, от 10-й до 20-й, от 20-й до 30-й, .. .10i-й до (i+1)10 -й,... ,от 90 до 100-й точках (используйте осреднение по десяткам точек)\n"
   ]
  },
  {
   "cell_type": "code",
   "execution_count": null,
   "metadata": {},
   "outputs": [],
   "source": [
    "y_test_pred_g = model.predict(X_test)"
   ]
  },
  {
   "cell_type": "code",
   "execution_count": null,
   "metadata": {},
   "outputs": [],
   "source": [
    "scl_x=StandardScaler() \n",
    "\n",
    "X = data_w.iloc[p:-h,:].values\n",
    "X = scl_x.fit_transform(X.astype('float64'))\n",
    "X.shape"
   ]
  },
  {
   "cell_type": "code",
   "execution_count": null,
   "metadata": {},
   "outputs": [],
   "source": [
    "scl_x.scale_[0] , scl_x.mean_[0]"
   ]
  },
  {
   "cell_type": "code",
   "execution_count": null,
   "metadata": {},
   "outputs": [],
   "source": [
    "X_test_100 = X_test.copy()\n",
    "y_test_100 = y_test_pred_g.copy()\n",
    "\n",
    "arr_er_g = {'Интервал':[],'НИТ':[]}\n",
    "N10=100\n",
    "for i in range(N10):\n",
    "    y_test_100[i] = model.predict(X_test_100[i,:].reshape((1,X_test_100.shape[1])))\n",
    "    # восстанавливаем не масштабированное значение ряда текущей точке  \n",
    "    y_i=scl_target.inverse_transform(y_test_100[i:i+1])\n",
    "    if i < y_test_100.shape[0]-1:\n",
    "        # заполняем вектор для прогноза следующей точки\n",
    "        X_test_100[i+1,0] = (y_i-scl_x.mean_[0])/scl_x.scale_[0]\n",
    "        #строим 'd_w4' - признак под номером 2\n",
    "        if i>=4:\n",
    "            X_test_100[i+1,2] = np.mean(X_test_100[i-4+1:i,0])   \n",
    "        if i>=1:\n",
    "            X_test_100[i+1,3] = X_test_100[i-1+1,0]     \n",
    "        if i>=2:\n",
    "            X_test_100[i+1,4] = X_test_100[i-2+1,0]  \n",
    "        if i>=3:\n",
    "            X_test_100[i+1,5] = X_test_100[i-3+1,0]  \n",
    "        if i>=7:\n",
    "            X_test_100[i+1,6] = X_test_100[i-7+1,0]   \n",
    "        X_test_100[i+1,1] = (np.log((y_i))-scl_x.mean_[6])*scl_x.scale_[6]\n",
    "    if i % 10 == 9:\n",
    "        er_g = mean_absolute_percentage_error(y_true=scl_target.inverse_transform(y_test[i-9:i]),y_pred = scl_target.inverse_transform( y_test_100[i-9:i]))\n",
    "        arr_er_g['Интервал'].append(er_g)\n",
    "        er_g = mean_absolute_percentage_error(y_true=scl_target.inverse_transform(y_test[:i]),y_pred = scl_target.inverse_transform( y_test_100[:i]))\n",
    "        arr_er_g['НИТ'].append(er_g)"
   ]
  },
  {
   "cell_type": "code",
   "execution_count": null,
   "metadata": {},
   "outputs": [],
   "source": [
    "plt.figure( figsize=( 15, 7 ))\n",
    "plt.xlabel('N')\n",
    "plt.ylabel('Величина ошибки, %')\n",
    "i = range(len(arr_er_g['Интервал']))\n",
    "plt.plot(i ,arr_er_g['Интервал'], 'r',label='predict error Интервал' )\n",
    "plt.plot(i ,arr_er_g['НИТ'], 'g',label='predict error НИТ' )\n",
    "plt.legend()\n",
    "plt.show()"
   ]
  },
  {
   "cell_type": "code",
   "execution_count": null,
   "metadata": {},
   "outputs": [],
   "source": []
  },
  {
   "cell_type": "markdown",
   "metadata": {},
   "source": [
    "### 6.Сделайте вывод о том, как изменилось поведение ошибки предсказания ряда"
   ]
  },
  {
   "cell_type": "markdown",
   "metadata": {},
   "source": [
    "### Ошибка меняется скачкообразно. До двух значение ошибки уменьшается, с двух до трех возрастает и снижается до четырех и т.д."
   ]
  },
  {
   "cell_type": "code",
   "execution_count": null,
   "metadata": {},
   "outputs": [],
   "source": []
  },
  {
   "cell_type": "code",
   "execution_count": null,
   "metadata": {},
   "outputs": [],
   "source": []
  },
  {
   "cell_type": "code",
   "execution_count": null,
   "metadata": {},
   "outputs": [],
   "source": []
  },
  {
   "cell_type": "code",
   "execution_count": null,
   "metadata": {},
   "outputs": [],
   "source": []
  },
  {
   "cell_type": "code",
   "execution_count": null,
   "metadata": {},
   "outputs": [],
   "source": []
  }
 ],
 "metadata": {
  "kernelspec": {
   "display_name": "Python 3",
   "language": "python",
   "name": "python3"
  },
  "language_info": {
   "codemirror_mode": {
    "name": "ipython",
    "version": 3
   },
   "file_extension": ".py",
   "mimetype": "text/x-python",
   "name": "python",
   "nbconvert_exporter": "python",
   "pygments_lexer": "ipython3",
   "version": "3.7.3"
  }
 },
 "nbformat": 4,
 "nbformat_minor": 2
}
