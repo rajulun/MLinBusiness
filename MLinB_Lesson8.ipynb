{
 "cells": [
  {
   "cell_type": "markdown",
   "metadata": {},
   "source": [
    "## Машинное обучение в бизнесе\n",
    "\n",
    "### Урок 8. Кейс 2. Типы моделей для задачи оттока"
   ]
  },
  {
   "cell_type": "markdown",
   "metadata": {},
   "source": [
    "Построить модель градиентного бустинга для многоклассовой классификации для показателя RiskVar на 1 и 2 частях набора данных freMPL. Необходимо предобработать исходные данные (данные содержат ряд других категориальных признаков, не рассматривавшихся на занятиях). Оценить результаты построенного классификатора, выявить возможные проблемы. Попробовать улучшить результат и предложить способы решения обнаруженных проблем. Можно использовать различные методы для подбора гиперпараметров"
   ]
  },
  {
   "cell_type": "code",
   "execution_count": 1,
   "metadata": {},
   "outputs": [],
   "source": [
    "import pandas as pd\n",
    "import numpy as np\n",
    "import xgboost as xgb\n",
    "import matplotlib.pyplot as plt\n",
    "from sklearn.model_selection import train_test_split\n",
    "from sklearn.metrics import f1_score, accuracy_score, confusion_matrix\n",
    "from hyperopt import hp, tpe, space_eval\n",
    "from hyperopt.fmin import fmin\n",
    "\n",
    "def SeriesFactorizer(series):\n",
    "    series, unique = pd.factorize(series)\n",
    "    reference = {x: i for x, i in enumerate(unique)}\n",
    "    print(reference)\n",
    "    return series, reference"
   ]
  },
  {
   "cell_type": "code",
   "execution_count": 2,
   "metadata": {},
   "outputs": [
    {
     "name": "stdout",
     "output_type": "stream",
     "text": [
      "<class 'pandas.core.frame.DataFrame'>\n",
      "RangeIndex: 40732 entries, 0 to 40731\n",
      "Data columns (total 22 columns):\n",
      "Exposure       40732 non-null float64\n",
      "LicAge         40732 non-null int64\n",
      "RecordBeg      40732 non-null object\n",
      "RecordEnd      21616 non-null object\n",
      "VehAge         40732 non-null object\n",
      "Gender         40732 non-null object\n",
      "MariStat       40732 non-null object\n",
      "SocioCateg     40732 non-null object\n",
      "VehUsage       40732 non-null object\n",
      "DrivAge        40732 non-null int64\n",
      "HasKmLimit     40732 non-null int64\n",
      "BonusMalus     40732 non-null int64\n",
      "VehBody        40732 non-null object\n",
      "VehPrice       40732 non-null object\n",
      "VehEngine      40732 non-null object\n",
      "VehEnergy      40732 non-null object\n",
      "VehMaxSpeed    40732 non-null object\n",
      "VehClass       40732 non-null object\n",
      "ClaimAmount    40732 non-null float64\n",
      "RiskVar        40732 non-null float64\n",
      "Garage         40732 non-null object\n",
      "ClaimInd       40732 non-null int64\n",
      "dtypes: float64(3), int64(5), object(14)\n",
      "memory usage: 6.8+ MB\n"
     ]
    }
   ],
   "source": [
    "df = pd.read_csv('freMPL-R.csv', low_memory=False)\n",
    "df = df.loc[df.Dataset.isin([1, 2])]\n",
    "df.drop('Dataset', axis=1, inplace=True)\n",
    "df.dropna(axis=1, how='all', inplace=True)\n",
    "df.drop_duplicates(inplace=True)\n",
    "df.reset_index(drop=True, inplace=True)\n",
    "df.info()"
   ]
  },
  {
   "cell_type": "code",
   "execution_count": 3,
   "metadata": {},
   "outputs": [
    {
     "data": {
      "text/html": [
       "<div>\n",
       "<style scoped>\n",
       "    .dataframe tbody tr th:only-of-type {\n",
       "        vertical-align: middle;\n",
       "    }\n",
       "\n",
       "    .dataframe tbody tr th {\n",
       "        vertical-align: top;\n",
       "    }\n",
       "\n",
       "    .dataframe thead th {\n",
       "        text-align: right;\n",
       "    }\n",
       "</style>\n",
       "<table border=\"1\" class=\"dataframe\">\n",
       "  <thead>\n",
       "    <tr style=\"text-align: right;\">\n",
       "      <th></th>\n",
       "      <th>Exposure</th>\n",
       "      <th>LicAge</th>\n",
       "      <th>RecordBeg</th>\n",
       "      <th>RecordEnd</th>\n",
       "      <th>VehAge</th>\n",
       "      <th>Gender</th>\n",
       "      <th>MariStat</th>\n",
       "      <th>SocioCateg</th>\n",
       "      <th>VehUsage</th>\n",
       "      <th>DrivAge</th>\n",
       "      <th>...</th>\n",
       "      <th>VehBody</th>\n",
       "      <th>VehPrice</th>\n",
       "      <th>VehEngine</th>\n",
       "      <th>VehEnergy</th>\n",
       "      <th>VehMaxSpeed</th>\n",
       "      <th>VehClass</th>\n",
       "      <th>ClaimAmount</th>\n",
       "      <th>RiskVar</th>\n",
       "      <th>Garage</th>\n",
       "      <th>ClaimInd</th>\n",
       "    </tr>\n",
       "  </thead>\n",
       "  <tbody>\n",
       "    <tr>\n",
       "      <td>0</td>\n",
       "      <td>0.583</td>\n",
       "      <td>366</td>\n",
       "      <td>2004-06-01</td>\n",
       "      <td>NaN</td>\n",
       "      <td>2</td>\n",
       "      <td>Female</td>\n",
       "      <td>Other</td>\n",
       "      <td>CSP1</td>\n",
       "      <td>Professional</td>\n",
       "      <td>55</td>\n",
       "      <td>...</td>\n",
       "      <td>sedan</td>\n",
       "      <td>D</td>\n",
       "      <td>injection</td>\n",
       "      <td>regular</td>\n",
       "      <td>160-170 km/h</td>\n",
       "      <td>B</td>\n",
       "      <td>0.000000</td>\n",
       "      <td>15.0</td>\n",
       "      <td>None</td>\n",
       "      <td>0</td>\n",
       "    </tr>\n",
       "    <tr>\n",
       "      <td>1</td>\n",
       "      <td>0.200</td>\n",
       "      <td>187</td>\n",
       "      <td>2004-10-19</td>\n",
       "      <td>NaN</td>\n",
       "      <td>0</td>\n",
       "      <td>Male</td>\n",
       "      <td>Alone</td>\n",
       "      <td>CSP55</td>\n",
       "      <td>Private+trip to office</td>\n",
       "      <td>34</td>\n",
       "      <td>...</td>\n",
       "      <td>microvan</td>\n",
       "      <td>K</td>\n",
       "      <td>direct injection overpowered</td>\n",
       "      <td>diesel</td>\n",
       "      <td>170-180 km/h</td>\n",
       "      <td>M1</td>\n",
       "      <td>0.000000</td>\n",
       "      <td>20.0</td>\n",
       "      <td>None</td>\n",
       "      <td>0</td>\n",
       "    </tr>\n",
       "    <tr>\n",
       "      <td>2</td>\n",
       "      <td>0.083</td>\n",
       "      <td>169</td>\n",
       "      <td>2004-07-16</td>\n",
       "      <td>2004-08-16</td>\n",
       "      <td>1</td>\n",
       "      <td>Female</td>\n",
       "      <td>Other</td>\n",
       "      <td>CSP1</td>\n",
       "      <td>Professional</td>\n",
       "      <td>33</td>\n",
       "      <td>...</td>\n",
       "      <td>other microvan</td>\n",
       "      <td>L</td>\n",
       "      <td>direct injection overpowered</td>\n",
       "      <td>diesel</td>\n",
       "      <td>170-180 km/h</td>\n",
       "      <td>M1</td>\n",
       "      <td>0.000000</td>\n",
       "      <td>17.0</td>\n",
       "      <td>None</td>\n",
       "      <td>0</td>\n",
       "    </tr>\n",
       "    <tr>\n",
       "      <td>3</td>\n",
       "      <td>0.375</td>\n",
       "      <td>170</td>\n",
       "      <td>2004-08-16</td>\n",
       "      <td>NaN</td>\n",
       "      <td>1</td>\n",
       "      <td>Female</td>\n",
       "      <td>Other</td>\n",
       "      <td>CSP1</td>\n",
       "      <td>Professional</td>\n",
       "      <td>34</td>\n",
       "      <td>...</td>\n",
       "      <td>other microvan</td>\n",
       "      <td>L</td>\n",
       "      <td>direct injection overpowered</td>\n",
       "      <td>diesel</td>\n",
       "      <td>170-180 km/h</td>\n",
       "      <td>M1</td>\n",
       "      <td>0.000000</td>\n",
       "      <td>17.0</td>\n",
       "      <td>Private garage</td>\n",
       "      <td>0</td>\n",
       "    </tr>\n",
       "    <tr>\n",
       "      <td>4</td>\n",
       "      <td>0.500</td>\n",
       "      <td>224</td>\n",
       "      <td>2004-01-01</td>\n",
       "      <td>2004-07-01</td>\n",
       "      <td>3</td>\n",
       "      <td>Male</td>\n",
       "      <td>Other</td>\n",
       "      <td>CSP47</td>\n",
       "      <td>Professional</td>\n",
       "      <td>53</td>\n",
       "      <td>...</td>\n",
       "      <td>van</td>\n",
       "      <td>L</td>\n",
       "      <td>direct injection overpowered</td>\n",
       "      <td>diesel</td>\n",
       "      <td>140-150 km/h</td>\n",
       "      <td>0</td>\n",
       "      <td>1418.610272</td>\n",
       "      <td>19.0</td>\n",
       "      <td>None</td>\n",
       "      <td>1</td>\n",
       "    </tr>\n",
       "  </tbody>\n",
       "</table>\n",
       "<p>5 rows × 22 columns</p>\n",
       "</div>"
      ],
      "text/plain": [
       "   Exposure  LicAge   RecordBeg   RecordEnd VehAge  Gender MariStat  \\\n",
       "0     0.583     366  2004-06-01         NaN      2  Female    Other   \n",
       "1     0.200     187  2004-10-19         NaN      0    Male    Alone   \n",
       "2     0.083     169  2004-07-16  2004-08-16      1  Female    Other   \n",
       "3     0.375     170  2004-08-16         NaN      1  Female    Other   \n",
       "4     0.500     224  2004-01-01  2004-07-01      3    Male    Other   \n",
       "\n",
       "  SocioCateg                VehUsage  DrivAge  ...         VehBody  VehPrice  \\\n",
       "0       CSP1            Professional       55  ...           sedan        D    \n",
       "1      CSP55  Private+trip to office       34  ...        microvan        K    \n",
       "2       CSP1            Professional       33  ...  other microvan        L    \n",
       "3       CSP1            Professional       34  ...  other microvan        L    \n",
       "4      CSP47            Professional       53  ...             van        L    \n",
       "\n",
       "                      VehEngine VehEnergy   VehMaxSpeed VehClass  ClaimAmount  \\\n",
       "0                     injection   regular  160-170 km/h        B     0.000000   \n",
       "1  direct injection overpowered    diesel  170-180 km/h       M1     0.000000   \n",
       "2  direct injection overpowered    diesel  170-180 km/h       M1     0.000000   \n",
       "3  direct injection overpowered    diesel  170-180 km/h       M1     0.000000   \n",
       "4  direct injection overpowered    diesel  140-150 km/h        0  1418.610272   \n",
       "\n",
       "  RiskVar          Garage  ClaimInd  \n",
       "0    15.0            None         0  \n",
       "1    20.0            None         0  \n",
       "2    17.0            None         0  \n",
       "3    17.0  Private garage         0  \n",
       "4    19.0            None         1  \n",
       "\n",
       "[5 rows x 22 columns]"
      ]
     },
     "execution_count": 3,
     "metadata": {},
     "output_type": "execute_result"
    }
   ],
   "source": [
    "df.head()"
   ]
  },
  {
   "cell_type": "code",
   "execution_count": 4,
   "metadata": {},
   "outputs": [
    {
     "name": "stdout",
     "output_type": "stream",
     "text": [
      "Unique values of ClaimInd: [0]\n"
     ]
    },
    {
     "data": {
      "text/html": [
       "<div>\n",
       "<style scoped>\n",
       "    .dataframe tbody tr th:only-of-type {\n",
       "        vertical-align: middle;\n",
       "    }\n",
       "\n",
       "    .dataframe tbody tr th {\n",
       "        vertical-align: top;\n",
       "    }\n",
       "\n",
       "    .dataframe thead th {\n",
       "        text-align: right;\n",
       "    }\n",
       "</style>\n",
       "<table border=\"1\" class=\"dataframe\">\n",
       "  <thead>\n",
       "    <tr style=\"text-align: right;\">\n",
       "      <th></th>\n",
       "      <th>ClaimAmount</th>\n",
       "      <th>ClaimInd</th>\n",
       "    </tr>\n",
       "  </thead>\n",
       "  <tbody>\n",
       "    <tr>\n",
       "      <td>231</td>\n",
       "      <td>-200.867674</td>\n",
       "      <td>0</td>\n",
       "    </tr>\n",
       "    <tr>\n",
       "      <td>404</td>\n",
       "      <td>-381.646224</td>\n",
       "      <td>0</td>\n",
       "    </tr>\n",
       "    <tr>\n",
       "      <td>568</td>\n",
       "      <td>-289.837160</td>\n",
       "      <td>0</td>\n",
       "    </tr>\n",
       "    <tr>\n",
       "      <td>794</td>\n",
       "      <td>-528.762236</td>\n",
       "      <td>0</td>\n",
       "    </tr>\n",
       "    <tr>\n",
       "      <td>822</td>\n",
       "      <td>-27.029003</td>\n",
       "      <td>0</td>\n",
       "    </tr>\n",
       "  </tbody>\n",
       "</table>\n",
       "</div>"
      ],
      "text/plain": [
       "     ClaimAmount  ClaimInd\n",
       "231  -200.867674         0\n",
       "404  -381.646224         0\n",
       "568  -289.837160         0\n",
       "794  -528.762236         0\n",
       "822   -27.029003         0"
      ]
     },
     "execution_count": 4,
     "metadata": {},
     "output_type": "execute_result"
    }
   ],
   "source": [
    "NegClaimAmount = df.loc[df.ClaimAmount < 0, ['ClaimAmount','ClaimInd']]\n",
    "print('Unique values of ClaimInd:', NegClaimAmount.ClaimInd.unique())\n",
    "NegClaimAmount.head()"
   ]
  },
  {
   "cell_type": "code",
   "execution_count": 5,
   "metadata": {},
   "outputs": [],
   "source": [
    "df.loc[df.ClaimAmount < 0, 'ClaimAmount'] = 0"
   ]
  },
  {
   "cell_type": "markdown",
   "metadata": {},
   "source": [
    "Перекодируем переменные типа object с помощью числовых значений"
   ]
  },
  {
   "cell_type": "code",
   "execution_count": null,
   "metadata": {},
   "outputs": [],
   "source": []
  },
  {
   "cell_type": "code",
   "execution_count": 6,
   "metadata": {},
   "outputs": [
    {
     "name": "stdout",
     "output_type": "stream",
     "text": [
      "{0: 'Female', 1: 'Male'}\n"
     ]
    }
   ],
   "source": [
    "df.Gender, GenderRef = SeriesFactorizer(df.Gender)\n"
   ]
  },
  {
   "cell_type": "code",
   "execution_count": 7,
   "metadata": {},
   "outputs": [
    {
     "name": "stdout",
     "output_type": "stream",
     "text": [
      "{0: 'Other', 1: 'Alone'}\n"
     ]
    }
   ],
   "source": [
    "df.MariStat, MariStatRef = SeriesFactorizer(df.MariStat)"
   ]
  },
  {
   "cell_type": "markdown",
   "metadata": {},
   "source": [
    "Удалим малозначимые для нас данные"
   ]
  },
  {
   "cell_type": "code",
   "execution_count": 8,
   "metadata": {},
   "outputs": [],
   "source": [
    "df.drop(['RecordBeg', 'RecordEnd'], axis=1, inplace=True)"
   ]
  },
  {
   "cell_type": "markdown",
   "metadata": {},
   "source": [
    "Для переменных, содержащих более 2 значений, различия между которыми не могут упорядочены, используем фиктивные переменные (one-hot encoding)."
   ]
  },
  {
   "cell_type": "code",
   "execution_count": 9,
   "metadata": {},
   "outputs": [
    {
     "data": {
      "text/plain": [
       "['Professional', 'Private+trip to office', 'Private', 'Professional run']"
      ]
     },
     "execution_count": 9,
     "metadata": {},
     "output_type": "execute_result"
    }
   ],
   "source": [
    "list(df.VehUsage.unique())"
   ]
  },
  {
   "cell_type": "code",
   "execution_count": 10,
   "metadata": {},
   "outputs": [
    {
     "data": {
      "text/html": [
       "<div>\n",
       "<style scoped>\n",
       "    .dataframe tbody tr th:only-of-type {\n",
       "        vertical-align: middle;\n",
       "    }\n",
       "\n",
       "    .dataframe tbody tr th {\n",
       "        vertical-align: top;\n",
       "    }\n",
       "\n",
       "    .dataframe thead th {\n",
       "        text-align: right;\n",
       "    }\n",
       "</style>\n",
       "<table border=\"1\" class=\"dataframe\">\n",
       "  <thead>\n",
       "    <tr style=\"text-align: right;\">\n",
       "      <th></th>\n",
       "      <th>VehUsg_Private</th>\n",
       "      <th>VehUsg_Private+trip to office</th>\n",
       "      <th>VehUsg_Professional</th>\n",
       "      <th>VehUsg_Professional run</th>\n",
       "    </tr>\n",
       "  </thead>\n",
       "  <tbody>\n",
       "    <tr>\n",
       "      <td>0</td>\n",
       "      <td>0</td>\n",
       "      <td>0</td>\n",
       "      <td>1</td>\n",
       "      <td>0</td>\n",
       "    </tr>\n",
       "    <tr>\n",
       "      <td>1</td>\n",
       "      <td>0</td>\n",
       "      <td>1</td>\n",
       "      <td>0</td>\n",
       "      <td>0</td>\n",
       "    </tr>\n",
       "    <tr>\n",
       "      <td>2</td>\n",
       "      <td>0</td>\n",
       "      <td>0</td>\n",
       "      <td>1</td>\n",
       "      <td>0</td>\n",
       "    </tr>\n",
       "    <tr>\n",
       "      <td>3</td>\n",
       "      <td>0</td>\n",
       "      <td>0</td>\n",
       "      <td>1</td>\n",
       "      <td>0</td>\n",
       "    </tr>\n",
       "    <tr>\n",
       "      <td>4</td>\n",
       "      <td>0</td>\n",
       "      <td>0</td>\n",
       "      <td>1</td>\n",
       "      <td>0</td>\n",
       "    </tr>\n",
       "  </tbody>\n",
       "</table>\n",
       "</div>"
      ],
      "text/plain": [
       "   VehUsg_Private  VehUsg_Private+trip to office  VehUsg_Professional  \\\n",
       "0               0                              0                    1   \n",
       "1               0                              1                    0   \n",
       "2               0                              0                    1   \n",
       "3               0                              0                    1   \n",
       "4               0                              0                    1   \n",
       "\n",
       "   VehUsg_Professional run  \n",
       "0                        0  \n",
       "1                        0  \n",
       "2                        0  \n",
       "3                        0  \n",
       "4                        0  "
      ]
     },
     "execution_count": 10,
     "metadata": {},
     "output_type": "execute_result"
    }
   ],
   "source": [
    "VU_dummies = pd.get_dummies(df.VehUsage, prefix='VehUsg', drop_first=False)\n",
    "VU_dummies.head()"
   ]
  },
  {
   "cell_type": "code",
   "execution_count": 11,
   "metadata": {},
   "outputs": [],
   "source": [
    "df['SocioCateg'] = df.SocioCateg.str.slice(0,4)"
   ]
  },
  {
   "cell_type": "code",
   "execution_count": 12,
   "metadata": {},
   "outputs": [],
   "source": [
    "df = pd.get_dummies(df, columns=['VehUsage','SocioCateg', 'VehAge', 'VehUsage', 'VehBody', 'VehPrice', 'VehEngine', 'VehEnergy', 'VehMaxSpeed', 'VehClass', 'Garage'])"
   ]
  },
  {
   "cell_type": "code",
   "execution_count": null,
   "metadata": {},
   "outputs": [],
   "source": []
  },
  {
   "cell_type": "code",
   "execution_count": null,
   "metadata": {},
   "outputs": [],
   "source": []
  },
  {
   "cell_type": "code",
   "execution_count": 13,
   "metadata": {},
   "outputs": [
    {
     "name": "stdout",
     "output_type": "stream",
     "text": [
      "<class 'pandas.core.frame.DataFrame'>\n",
      "RangeIndex: 40732 entries, 0 to 40731\n",
      "Data columns (total 100 columns):\n",
      "Exposure                                  40732 non-null float64\n",
      "LicAge                                    40732 non-null int64\n",
      "Gender                                    40732 non-null int64\n",
      "MariStat                                  40732 non-null int64\n",
      "DrivAge                                   40732 non-null int64\n",
      "HasKmLimit                                40732 non-null int64\n",
      "BonusMalus                                40732 non-null int64\n",
      "ClaimAmount                               40732 non-null float64\n",
      "RiskVar                                   40732 non-null float64\n",
      "ClaimInd                                  40732 non-null int64\n",
      "VehUsage_Private                          40732 non-null uint8\n",
      "VehUsage_Private+trip to office           40732 non-null uint8\n",
      "VehUsage_Professional                     40732 non-null uint8\n",
      "VehUsage_Professional run                 40732 non-null uint8\n",
      "SocioCateg_CSP1                           40732 non-null uint8\n",
      "SocioCateg_CSP2                           40732 non-null uint8\n",
      "SocioCateg_CSP3                           40732 non-null uint8\n",
      "SocioCateg_CSP4                           40732 non-null uint8\n",
      "SocioCateg_CSP5                           40732 non-null uint8\n",
      "SocioCateg_CSP6                           40732 non-null uint8\n",
      "SocioCateg_CSP7                           40732 non-null uint8\n",
      "SocioCateg_CSP9                           40732 non-null uint8\n",
      "VehAge_0                                  40732 non-null uint8\n",
      "VehAge_1                                  40732 non-null uint8\n",
      "VehAge_10+                                40732 non-null uint8\n",
      "VehAge_2                                  40732 non-null uint8\n",
      "VehAge_3                                  40732 non-null uint8\n",
      "VehAge_4                                  40732 non-null uint8\n",
      "VehAge_5                                  40732 non-null uint8\n",
      "VehAge_6-7                                40732 non-null uint8\n",
      "VehAge_8-9                                40732 non-null uint8\n",
      "VehUsage_Private                          40732 non-null uint8\n",
      "VehUsage_Private+trip to office           40732 non-null uint8\n",
      "VehUsage_Professional                     40732 non-null uint8\n",
      "VehUsage_Professional run                 40732 non-null uint8\n",
      "VehBody_bus                               40732 non-null uint8\n",
      "VehBody_cabriolet                         40732 non-null uint8\n",
      "VehBody_coupe                             40732 non-null uint8\n",
      "VehBody_microvan                          40732 non-null uint8\n",
      "VehBody_other microvan                    40732 non-null uint8\n",
      "VehBody_sedan                             40732 non-null uint8\n",
      "VehBody_sport utility vehicle             40732 non-null uint8\n",
      "VehBody_station wagon                     40732 non-null uint8\n",
      "VehBody_van                               40732 non-null uint8\n",
      "VehPrice_A                                40732 non-null uint8\n",
      "VehPrice_B                                40732 non-null uint8\n",
      "VehPrice_C                                40732 non-null uint8\n",
      "VehPrice_D                                40732 non-null uint8\n",
      "VehPrice_E                                40732 non-null uint8\n",
      "VehPrice_F                                40732 non-null uint8\n",
      "VehPrice_G                                40732 non-null uint8\n",
      "VehPrice_H                                40732 non-null uint8\n",
      "VehPrice_I                                40732 non-null uint8\n",
      "VehPrice_J                                40732 non-null uint8\n",
      "VehPrice_K                                40732 non-null uint8\n",
      "VehPrice_L                                40732 non-null uint8\n",
      "VehPrice_M                                40732 non-null uint8\n",
      "VehPrice_N                                40732 non-null uint8\n",
      "VehPrice_O                                40732 non-null uint8\n",
      "VehPrice_P                                40732 non-null uint8\n",
      "VehPrice_Q                                40732 non-null uint8\n",
      "VehPrice_R                                40732 non-null uint8\n",
      "VehPrice_S                                40732 non-null uint8\n",
      "VehPrice_T                                40732 non-null uint8\n",
      "VehPrice_U                                40732 non-null uint8\n",
      "VehPrice_V                                40732 non-null uint8\n",
      "VehPrice_W                                40732 non-null uint8\n",
      "VehPrice_X                                40732 non-null uint8\n",
      "VehPrice_Y                                40732 non-null uint8\n",
      "VehPrice_Z                                40732 non-null uint8\n",
      "VehPrice_Z1                               40732 non-null uint8\n",
      "VehEngine_GPL                             40732 non-null uint8\n",
      "VehEngine_carburation                     40732 non-null uint8\n",
      "VehEngine_direct injection overpowered    40732 non-null uint8\n",
      "VehEngine_electric                        40732 non-null uint8\n",
      "VehEngine_injection                       40732 non-null uint8\n",
      "VehEngine_injection overpowered           40732 non-null uint8\n",
      "VehEnergy_GPL                             40732 non-null uint8\n",
      "VehEnergy_diesel                          40732 non-null uint8\n",
      "VehEnergy_eletric                         40732 non-null uint8\n",
      "VehEnergy_regular                         40732 non-null uint8\n",
      "VehMaxSpeed_1-130 km/h                    40732 non-null uint8\n",
      "VehMaxSpeed_130-140 km/h                  40732 non-null uint8\n",
      "VehMaxSpeed_140-150 km/h                  40732 non-null uint8\n",
      "VehMaxSpeed_150-160 km/h                  40732 non-null uint8\n",
      "VehMaxSpeed_160-170 km/h                  40732 non-null uint8\n",
      "VehMaxSpeed_170-180 km/h                  40732 non-null uint8\n",
      "VehMaxSpeed_180-190 km/h                  40732 non-null uint8\n",
      "VehMaxSpeed_190-200 km/h                  40732 non-null uint8\n",
      "VehMaxSpeed_200-220 km/h                  40732 non-null uint8\n",
      "VehMaxSpeed_220+ km/h                     40732 non-null uint8\n",
      "VehClass_0                                40732 non-null uint8\n",
      "VehClass_A                                40732 non-null uint8\n",
      "VehClass_B                                40732 non-null uint8\n",
      "VehClass_H                                40732 non-null uint8\n",
      "VehClass_M1                               40732 non-null uint8\n",
      "VehClass_M2                               40732 non-null uint8\n",
      "Garage_Collective garage                  40732 non-null uint8\n",
      "Garage_None                               40732 non-null uint8\n",
      "Garage_Private garage                     40732 non-null uint8\n",
      "dtypes: float64(3), int64(7), uint8(90)\n",
      "memory usage: 6.6 MB\n"
     ]
    }
   ],
   "source": [
    "df.info()"
   ]
  },
  {
   "cell_type": "code",
   "execution_count": 14,
   "metadata": {},
   "outputs": [
    {
     "data": {
      "text/html": [
       "<div>\n",
       "<style scoped>\n",
       "    .dataframe tbody tr th:only-of-type {\n",
       "        vertical-align: middle;\n",
       "    }\n",
       "\n",
       "    .dataframe tbody tr th {\n",
       "        vertical-align: top;\n",
       "    }\n",
       "\n",
       "    .dataframe thead th {\n",
       "        text-align: right;\n",
       "    }\n",
       "</style>\n",
       "<table border=\"1\" class=\"dataframe\">\n",
       "  <thead>\n",
       "    <tr style=\"text-align: right;\">\n",
       "      <th></th>\n",
       "      <th>Exposure</th>\n",
       "      <th>LicAge</th>\n",
       "      <th>Gender</th>\n",
       "      <th>MariStat</th>\n",
       "      <th>DrivAge</th>\n",
       "      <th>HasKmLimit</th>\n",
       "      <th>BonusMalus</th>\n",
       "      <th>ClaimAmount</th>\n",
       "      <th>RiskVar</th>\n",
       "      <th>ClaimInd</th>\n",
       "      <th>...</th>\n",
       "      <th>VehClass_0</th>\n",
       "      <th>VehClass_A</th>\n",
       "      <th>VehClass_B</th>\n",
       "      <th>VehClass_H</th>\n",
       "      <th>VehClass_M1</th>\n",
       "      <th>VehClass_M2</th>\n",
       "      <th>Garage_Collective garage</th>\n",
       "      <th>Garage_None</th>\n",
       "      <th>Garage_Private garage</th>\n",
       "      <th>DrivAgeSq</th>\n",
       "    </tr>\n",
       "  </thead>\n",
       "  <tbody>\n",
       "    <tr>\n",
       "      <td>0</td>\n",
       "      <td>0.583</td>\n",
       "      <td>366</td>\n",
       "      <td>0</td>\n",
       "      <td>0</td>\n",
       "      <td>55</td>\n",
       "      <td>0</td>\n",
       "      <td>72</td>\n",
       "      <td>0.000000</td>\n",
       "      <td>15.0</td>\n",
       "      <td>0</td>\n",
       "      <td>...</td>\n",
       "      <td>0</td>\n",
       "      <td>0</td>\n",
       "      <td>1</td>\n",
       "      <td>0</td>\n",
       "      <td>0</td>\n",
       "      <td>0</td>\n",
       "      <td>0</td>\n",
       "      <td>1</td>\n",
       "      <td>0</td>\n",
       "      <td>3025</td>\n",
       "    </tr>\n",
       "    <tr>\n",
       "      <td>1</td>\n",
       "      <td>0.200</td>\n",
       "      <td>187</td>\n",
       "      <td>1</td>\n",
       "      <td>1</td>\n",
       "      <td>34</td>\n",
       "      <td>0</td>\n",
       "      <td>80</td>\n",
       "      <td>0.000000</td>\n",
       "      <td>20.0</td>\n",
       "      <td>0</td>\n",
       "      <td>...</td>\n",
       "      <td>0</td>\n",
       "      <td>0</td>\n",
       "      <td>0</td>\n",
       "      <td>0</td>\n",
       "      <td>1</td>\n",
       "      <td>0</td>\n",
       "      <td>0</td>\n",
       "      <td>1</td>\n",
       "      <td>0</td>\n",
       "      <td>1156</td>\n",
       "    </tr>\n",
       "    <tr>\n",
       "      <td>2</td>\n",
       "      <td>0.083</td>\n",
       "      <td>169</td>\n",
       "      <td>0</td>\n",
       "      <td>0</td>\n",
       "      <td>33</td>\n",
       "      <td>0</td>\n",
       "      <td>63</td>\n",
       "      <td>0.000000</td>\n",
       "      <td>17.0</td>\n",
       "      <td>0</td>\n",
       "      <td>...</td>\n",
       "      <td>0</td>\n",
       "      <td>0</td>\n",
       "      <td>0</td>\n",
       "      <td>0</td>\n",
       "      <td>1</td>\n",
       "      <td>0</td>\n",
       "      <td>0</td>\n",
       "      <td>1</td>\n",
       "      <td>0</td>\n",
       "      <td>1089</td>\n",
       "    </tr>\n",
       "    <tr>\n",
       "      <td>3</td>\n",
       "      <td>0.375</td>\n",
       "      <td>170</td>\n",
       "      <td>0</td>\n",
       "      <td>0</td>\n",
       "      <td>34</td>\n",
       "      <td>0</td>\n",
       "      <td>63</td>\n",
       "      <td>0.000000</td>\n",
       "      <td>17.0</td>\n",
       "      <td>0</td>\n",
       "      <td>...</td>\n",
       "      <td>0</td>\n",
       "      <td>0</td>\n",
       "      <td>0</td>\n",
       "      <td>0</td>\n",
       "      <td>1</td>\n",
       "      <td>0</td>\n",
       "      <td>0</td>\n",
       "      <td>0</td>\n",
       "      <td>1</td>\n",
       "      <td>1156</td>\n",
       "    </tr>\n",
       "    <tr>\n",
       "      <td>4</td>\n",
       "      <td>0.500</td>\n",
       "      <td>224</td>\n",
       "      <td>1</td>\n",
       "      <td>0</td>\n",
       "      <td>53</td>\n",
       "      <td>0</td>\n",
       "      <td>72</td>\n",
       "      <td>1418.610272</td>\n",
       "      <td>19.0</td>\n",
       "      <td>1</td>\n",
       "      <td>...</td>\n",
       "      <td>1</td>\n",
       "      <td>0</td>\n",
       "      <td>0</td>\n",
       "      <td>0</td>\n",
       "      <td>0</td>\n",
       "      <td>0</td>\n",
       "      <td>0</td>\n",
       "      <td>1</td>\n",
       "      <td>0</td>\n",
       "      <td>2809</td>\n",
       "    </tr>\n",
       "  </tbody>\n",
       "</table>\n",
       "<p>5 rows × 101 columns</p>\n",
       "</div>"
      ],
      "text/plain": [
       "   Exposure  LicAge  Gender  MariStat  DrivAge  HasKmLimit  BonusMalus  \\\n",
       "0     0.583     366       0         0       55           0          72   \n",
       "1     0.200     187       1         1       34           0          80   \n",
       "2     0.083     169       0         0       33           0          63   \n",
       "3     0.375     170       0         0       34           0          63   \n",
       "4     0.500     224       1         0       53           0          72   \n",
       "\n",
       "   ClaimAmount  RiskVar  ClaimInd  ...  VehClass_0  VehClass_A  VehClass_B  \\\n",
       "0     0.000000     15.0         0  ...           0           0           1   \n",
       "1     0.000000     20.0         0  ...           0           0           0   \n",
       "2     0.000000     17.0         0  ...           0           0           0   \n",
       "3     0.000000     17.0         0  ...           0           0           0   \n",
       "4  1418.610272     19.0         1  ...           1           0           0   \n",
       "\n",
       "   VehClass_H  VehClass_M1  VehClass_M2  Garage_Collective garage  \\\n",
       "0           0            0            0                         0   \n",
       "1           0            1            0                         0   \n",
       "2           0            1            0                         0   \n",
       "3           0            1            0                         0   \n",
       "4           0            0            0                         0   \n",
       "\n",
       "   Garage_None  Garage_Private garage  DrivAgeSq  \n",
       "0            1                      0       3025  \n",
       "1            1                      0       1156  \n",
       "2            1                      0       1089  \n",
       "3            0                      1       1156  \n",
       "4            1                      0       2809  \n",
       "\n",
       "[5 rows x 101 columns]"
      ]
     },
     "execution_count": 14,
     "metadata": {},
     "output_type": "execute_result"
    }
   ],
   "source": [
    "df['DrivAgeSq'] = df.DrivAge.apply(lambda x: x**2)\n",
    "df.head()"
   ]
  },
  {
   "cell_type": "markdown",
   "metadata": {},
   "source": [
    "XGBoost для многоклассовой классификации принимает на вход значения меток классов в виде [0, num_classes]. Поэтому, вычтем из значений переменной RiskVar единицу."
   ]
  },
  {
   "cell_type": "code",
   "execution_count": 15,
   "metadata": {},
   "outputs": [],
   "source": [
    "df['RiskVar'] -= 1"
   ]
  },
  {
   "cell_type": "markdown",
   "metadata": {},
   "source": [
    "Данная переменная принимает значения от 1 до 20, которые, возможно, упорядочены. Посмотрим, сколько полисов соответствуют каждому из значений RiskVar, используя метод groupby. Для полученных значений также посчитаем нормированную частоту."
   ]
  },
  {
   "cell_type": "code",
   "execution_count": null,
   "metadata": {},
   "outputs": [],
   "source": []
  },
  {
   "cell_type": "code",
   "execution_count": 16,
   "metadata": {},
   "outputs": [],
   "source": [
    "data = df.groupby('RiskVar')['RiskVar'].count().to_frame()\n",
    "data = data.rename(columns={\"RiskVar\": \"Count\"})"
   ]
  },
  {
   "cell_type": "code",
   "execution_count": 17,
   "metadata": {},
   "outputs": [
    {
     "data": {
      "text/html": [
       "<div>\n",
       "<style scoped>\n",
       "    .dataframe tbody tr th:only-of-type {\n",
       "        vertical-align: middle;\n",
       "    }\n",
       "\n",
       "    .dataframe tbody tr th {\n",
       "        vertical-align: top;\n",
       "    }\n",
       "\n",
       "    .dataframe thead th {\n",
       "        text-align: right;\n",
       "    }\n",
       "</style>\n",
       "<table border=\"1\" class=\"dataframe\">\n",
       "  <thead>\n",
       "    <tr style=\"text-align: right;\">\n",
       "      <th></th>\n",
       "      <th>Count</th>\n",
       "      <th>Freq</th>\n",
       "    </tr>\n",
       "    <tr>\n",
       "      <th>RiskVar</th>\n",
       "      <th></th>\n",
       "      <th></th>\n",
       "    </tr>\n",
       "  </thead>\n",
       "  <tbody>\n",
       "    <tr>\n",
       "      <td>0.0</td>\n",
       "      <td>531</td>\n",
       "      <td>0.013036</td>\n",
       "    </tr>\n",
       "    <tr>\n",
       "      <td>1.0</td>\n",
       "      <td>451</td>\n",
       "      <td>0.011072</td>\n",
       "    </tr>\n",
       "    <tr>\n",
       "      <td>2.0</td>\n",
       "      <td>660</td>\n",
       "      <td>0.016203</td>\n",
       "    </tr>\n",
       "    <tr>\n",
       "      <td>3.0</td>\n",
       "      <td>603</td>\n",
       "      <td>0.014804</td>\n",
       "    </tr>\n",
       "    <tr>\n",
       "      <td>4.0</td>\n",
       "      <td>979</td>\n",
       "      <td>0.024035</td>\n",
       "    </tr>\n",
       "    <tr>\n",
       "      <td>5.0</td>\n",
       "      <td>902</td>\n",
       "      <td>0.022145</td>\n",
       "    </tr>\n",
       "    <tr>\n",
       "      <td>6.0</td>\n",
       "      <td>1634</td>\n",
       "      <td>0.040116</td>\n",
       "    </tr>\n",
       "    <tr>\n",
       "      <td>7.0</td>\n",
       "      <td>1439</td>\n",
       "      <td>0.035328</td>\n",
       "    </tr>\n",
       "    <tr>\n",
       "      <td>8.0</td>\n",
       "      <td>1170</td>\n",
       "      <td>0.028724</td>\n",
       "    </tr>\n",
       "    <tr>\n",
       "      <td>9.0</td>\n",
       "      <td>1314</td>\n",
       "      <td>0.032260</td>\n",
       "    </tr>\n",
       "    <tr>\n",
       "      <td>10.0</td>\n",
       "      <td>2533</td>\n",
       "      <td>0.062187</td>\n",
       "    </tr>\n",
       "    <tr>\n",
       "      <td>11.0</td>\n",
       "      <td>2445</td>\n",
       "      <td>0.060027</td>\n",
       "    </tr>\n",
       "    <tr>\n",
       "      <td>12.0</td>\n",
       "      <td>2719</td>\n",
       "      <td>0.066753</td>\n",
       "    </tr>\n",
       "    <tr>\n",
       "      <td>13.0</td>\n",
       "      <td>2096</td>\n",
       "      <td>0.051458</td>\n",
       "    </tr>\n",
       "    <tr>\n",
       "      <td>14.0</td>\n",
       "      <td>4625</td>\n",
       "      <td>0.113547</td>\n",
       "    </tr>\n",
       "    <tr>\n",
       "      <td>15.0</td>\n",
       "      <td>4906</td>\n",
       "      <td>0.120446</td>\n",
       "    </tr>\n",
       "    <tr>\n",
       "      <td>16.0</td>\n",
       "      <td>3444</td>\n",
       "      <td>0.084553</td>\n",
       "    </tr>\n",
       "    <tr>\n",
       "      <td>17.0</td>\n",
       "      <td>2614</td>\n",
       "      <td>0.064176</td>\n",
       "    </tr>\n",
       "    <tr>\n",
       "      <td>18.0</td>\n",
       "      <td>2773</td>\n",
       "      <td>0.068079</td>\n",
       "    </tr>\n",
       "    <tr>\n",
       "      <td>19.0</td>\n",
       "      <td>2894</td>\n",
       "      <td>0.071050</td>\n",
       "    </tr>\n",
       "  </tbody>\n",
       "</table>\n",
       "</div>"
      ],
      "text/plain": [
       "         Count      Freq\n",
       "RiskVar                 \n",
       "0.0        531  0.013036\n",
       "1.0        451  0.011072\n",
       "2.0        660  0.016203\n",
       "3.0        603  0.014804\n",
       "4.0        979  0.024035\n",
       "5.0        902  0.022145\n",
       "6.0       1634  0.040116\n",
       "7.0       1439  0.035328\n",
       "8.0       1170  0.028724\n",
       "9.0       1314  0.032260\n",
       "10.0      2533  0.062187\n",
       "11.0      2445  0.060027\n",
       "12.0      2719  0.066753\n",
       "13.0      2096  0.051458\n",
       "14.0      4625  0.113547\n",
       "15.0      4906  0.120446\n",
       "16.0      3444  0.084553\n",
       "17.0      2614  0.064176\n",
       "18.0      2773  0.068079\n",
       "19.0      2894  0.071050"
      ]
     },
     "execution_count": 17,
     "metadata": {},
     "output_type": "execute_result"
    }
   ],
   "source": [
    "FreqCount = pd.DataFrame(data, columns=['Count'])\n",
    "FreqCount['Freq'] = FreqCount['Count'] / FreqCount['Count'].sum()\n",
    "FreqCount"
   ]
  },
  {
   "cell_type": "code",
   "execution_count": 18,
   "metadata": {},
   "outputs": [
    {
     "data": {
      "image/png": "[encoded data removed]",
      "text/plain": [
       "<Figure size 432x288 with 1 Axes>"
      ]
     },
     "metadata": {
      "needs_background": "light"
     },
     "output_type": "display_data"
    }
   ],
   "source": [
    "FreqCount.Freq.plot(kind='bar')\n",
    "plt.ylabel('Frequency')\n",
    "plt.show()"
   ]
  },
  {
   "cell_type": "markdown",
   "metadata": {},
   "source": [
    "Заметим, что в данном случае присутствует проблема несбалансированности классов. Поэтому, для того, чтобы по возможности избежать ее, воспользуемся взвешиванием наблюдений для обучения модели. Для этого в исходном наборе данных создадим столбец weight. Присвоим ему некоторые значения, например, можно задать 0.5 для значений RiskVar 14 и 15, а для остальных - 1 (Для этого можем использовать функцию np.where и метод isin для pandas.Series). Также можно попробовать какой-либо другой способ задания весов, приведенный пример не гарантирует хороших результатов."
   ]
  },
  {
   "cell_type": "code",
   "execution_count": 19,
   "metadata": {},
   "outputs": [],
   "source": [
    "df['weight'] = 1\n",
    "df.loc[df.RiskVar.isin([14, 15]), 'weight'] = 0.5"
   ]
  },
  {
   "cell_type": "markdown",
   "metadata": {},
   "source": [
    "Разобьем имеющийся набор данных на обучающую, валидационную и тестовую выборки в отношениях 70%/15%/15% соответственно. Зададим зерно для случайного разбиения равным 10."
   ]
  },
  {
   "cell_type": "code",
   "execution_count": 20,
   "metadata": {},
   "outputs": [],
   "source": [
    "X = df.drop(columns=['Exposure', 'RiskVar'])\n",
    "y = df['RiskVar']"
   ]
  },
  {
   "cell_type": "code",
   "execution_count": 21,
   "metadata": {},
   "outputs": [],
   "source": [
    "x_train, x_test, y_train, y_test = train_test_split(X, y, test_size=0.3, random_state=10)\n",
    "x_valid, x_test, y_valid, y_test = train_test_split(x_test, y_test, test_size=0.5, random_state=10)"
   ]
  },
  {
   "cell_type": "markdown",
   "metadata": {},
   "source": [
    "Далее, создадим объекты DMatrix для обучающей, валидационной и тестовой выборок. Для обучающей выборки также укажем параметр weight равным полученному ранее столбцу весов. Данный столбец также нужно исключить из объекта передаваемого в параметр data."
   ]
  },
  {
   "cell_type": "code",
   "execution_count": 22,
   "metadata": {},
   "outputs": [],
   "source": [
    "xgb_train = xgb.DMatrix(x_train.drop(columns=['weight']).values,\n",
    "                        y_train.values,\n",
    "                        weight=x_train['weight'].values)\n",
    "\n",
    "xgb_valid = xgb.DMatrix(x_valid.drop(columns=['weight']).values,\n",
    "                        y_valid.values)\n",
    "\n",
    "xgb_test = xgb.DMatrix(x_test.drop(columns=['weight']).values,\n",
    "                       y_test.values)"
   ]
  },
  {
   "cell_type": "markdown",
   "metadata": {},
   "source": [
    "Для оптимизации гиперпараметров можно воспользоваться различными методами. Однако, в случае Hyperopt, на процесс подбора гиперпараметров может уйти немалое количество часов."
   ]
  },
  {
   "cell_type": "code",
   "execution_count": 23,
   "metadata": {},
   "outputs": [],
   "source": [
    "# Определим функцию для оптимизации гиперпараметров алгоритмом TPE\n",
    "\n",
    "def objective(params):\n",
    "    parameters = {\n",
    "        'objective': 'multi:softmax',\n",
    "        'max_depth':  int(params['max_depth']),\n",
    "        'min_child_weight': params['min_child_weight'],\n",
    "        'subsample': params['subsample'],\n",
    "        'colsample_bytree': params['colsample_bytree'],\n",
    "        'eta': params['eta'],\n",
    "        'alpha': params['alpha'],\n",
    "        'lambda': params['lambda'],\n",
    "        'num_class': y.nunique()\n",
    "    }\n",
    "    \n",
    "    cv_result = xgb.cv(parameters, xgb_train, num_boost_round=int(params['num_boost_round']),\n",
    "                       nfold=5, metrics=['merror'], seed=21, maximize=False, early_stopping_rounds=10)\n",
    "    score = cv_result['test-merror-mean'][-1:].values[0]\n",
    "    return score"
   ]
  },
  {
   "cell_type": "code",
   "execution_count": 24,
   "metadata": {},
   "outputs": [],
   "source": [
    "# Определим границы, в которых будем искать гиперпараметры \n",
    "\n",
    "space = {'num_boost_round': hp.quniform('num_boost_round', 50, 500, 1),\n",
    "         'max_depth': hp.choice('max_depth', [5, 8, 10, 12, 15]),\n",
    "         'min_child_weight': hp.uniform('min_child_weight', 0, 50),\n",
    "         'subsample': hp.uniform('subsample', 0.5, 1),\n",
    "         'colsample_bytree': hp.uniform('colsample_bytree', 0.5, 1),\n",
    "         'alpha': hp.uniform('alpha', 0.8, 1),\n",
    "         'lambda': hp.uniform('lambda', 0, 1),\n",
    "         'eta': hp.uniform('eta', 0.01, 1),\n",
    "         'num_class': 20\n",
    "        }"
   ]
  },
  {
   "cell_type": "code",
   "execution_count": 26,
   "metadata": {},
   "outputs": [
    {
     "name": "stdout",
     "output_type": "stream",
     "text": [
      "100%|█████████████████████████████████████████████| 20/20 [2:42:32<00:00, 487.62s/trial, best loss: 0.5957155999999999]\n"
     ]
    }
   ],
   "source": [
    "# Оптимизация (количество итераций снижено для ускорения работы)\n",
    "\n",
    "best = fmin(fn=objective, space=space, algo=tpe.suggest, max_evals=20)"
   ]
  },
  {
   "cell_type": "code",
   "execution_count": 27,
   "metadata": {},
   "outputs": [
    {
     "data": {
      "text/plain": [
       "{'alpha': 0.9162125208993623,\n",
       " 'colsample_bytree': 0.9829674311688109,\n",
       " 'eta': 0.6007421349745506,\n",
       " 'lambda': 0.14130715338730837,\n",
       " 'max_depth': 12,\n",
       " 'min_child_weight': 4.345913542710894,\n",
       " 'num_boost_round': 325.0,\n",
       " 'num_class': 20,\n",
       " 'subsample': 0.9592008691826481,\n",
       " 'objective': 'multi:softmax'}"
      ]
     },
     "execution_count": 27,
     "metadata": {},
     "output_type": "execute_result"
    }
   ],
   "source": [
    "# Оптимальные гиперпараметры \n",
    "\n",
    "best_params = space_eval(space, best)\n",
    "best_params['objective'] = 'multi:softmax'\n",
    "best_params"
   ]
  },
  {
   "cell_type": "markdown",
   "metadata": {},
   "source": [
    "Далее обучим нашу модель с оптимальными параметрами"
   ]
  },
  {
   "cell_type": "code",
   "execution_count": 30,
   "metadata": {},
   "outputs": [],
   "source": [
    "progress = dict()\n",
    "xgb_multiclass = xgb.train(params=best_params, dtrain=xgb_train,\n",
    "                        maximize=False, evals=[(xgb_train, \"train\"),(xgb_valid, \"valid\")],\n",
    "                        early_stopping_rounds=10, evals_result=progress, verbose_eval=False)"
   ]
  },
  {
   "cell_type": "code",
   "execution_count": null,
   "metadata": {},
   "outputs": [],
   "source": []
  },
  {
   "cell_type": "markdown",
   "metadata": {},
   "source": [
    "Посчитаем метрики accuracy и f1 на наших наборах данных, также можем визуализировать confusion matrix, например, с помощью plt.imshow(). Можно использовать предложенный ниже код."
   ]
  },
  {
   "cell_type": "code",
   "execution_count": 31,
   "metadata": {},
   "outputs": [
    {
     "name": "stdout",
     "output_type": "stream",
     "text": [
      "F1 Score on train: 0.5325827721661055\n",
      "F1 Score on valid: 0.2276595744680851\n",
      "F1 Score on test: 0.22062193126022914\n"
     ]
    }
   ],
   "source": [
    "dfsets = [{'set': 'train', 'dmat': xgb_train, 'target': y_train},\n",
    "          {'set': 'valid', 'dmat': xgb_valid, 'target': y_valid},\n",
    "          {'set': 'test', 'dmat': xgb_test, 'target': y_test}]\n",
    "for dfset in dfsets:\n",
    "    class_preds = xgb_multiclass.predict(dfset['dmat']) # Посчитаем предсказанные значения\n",
    "    print('F1 Score on ' + str(dfset['set'])+':', f1_score(dfset['target'], class_preds, average='micro')) # Посчитаем F1 Score"
   ]
  },
  {
   "cell_type": "code",
   "execution_count": 32,
   "metadata": {},
   "outputs": [
    {
     "data": {
      "image/png": "[encoded data removed]",
      "text/plain": [
       "<Figure size 1080x216 with 6 Axes>"
      ]
     },
     "metadata": {
      "needs_background": "light"
     },
     "output_type": "display_data"
    }
   ],
   "source": [
    "plt.subplots(1,3, figsize=(15,3))\n",
    "for i in range(len(dfsets)):\n",
    "    confmatrix = confusion_matrix(dfsets[i]['target'], xgb_multiclass.predict(dfsets[i]['dmat']))\n",
    "    plt.subplot(1,3,i+1)\n",
    "    plt.imshow(confmatrix, cmap='Greys')\n",
    "    plt.colorbar()\n",
    "    plt.ylabel('True')\n",
    "    plt.xlabel('Predicted')\n",
    "plt.show()"
   ]
  },
  {
   "cell_type": "markdown",
   "metadata": {},
   "source": [
    "Как вы оцениваете качество построенной модели? Какие проблемы могут здесь присутствовать? Как можно улучшить результат?"
   ]
  },
  {
   "cell_type": "markdown",
   "metadata": {},
   "source": [
    "Значение train сильно отличается от valid и test - модель переобучена. "
   ]
  },
  {
   "cell_type": "code",
   "execution_count": null,
   "metadata": {},
   "outputs": [],
   "source": []
  },
  {
   "cell_type": "code",
   "execution_count": null,
   "metadata": {},
   "outputs": [],
   "source": []
  },
  {
   "cell_type": "code",
   "execution_count": null,
   "metadata": {},
   "outputs": [],
   "source": []
  },
  {
   "cell_type": "code",
   "execution_count": null,
   "metadata": {},
   "outputs": [],
   "source": []
  },
  {
   "cell_type": "code",
   "execution_count": null,
   "metadata": {},
   "outputs": [],
   "source": []
  },
  {
   "cell_type": "code",
   "execution_count": null,
   "metadata": {},
   "outputs": [],
   "source": []
  }
 ],
 "metadata": {
  "kernelspec": {
   "display_name": "Python 3",
   "language": "python",
   "name": "python3"
  },
  "language_info": {
   "codemirror_mode": {
    "name": "ipython",
    "version": 3
   },
   "file_extension": ".py",
   "mimetype": "text/x-python",
   "name": "python",
   "nbconvert_exporter": "python",
   "pygments_lexer": "ipython3",
   "version": "3.7.4"
  }
 },
 "nbformat": 4,
 "nbformat_minor": 2
}
